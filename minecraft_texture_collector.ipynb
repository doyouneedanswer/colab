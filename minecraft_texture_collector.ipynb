{
 "cells": [
  {
   "cell_type": "markdown",
   "metadata": {},
   "source": [
    "# Minecraft Texture & Skin AI Generator\n",
    "Скрипт для сбора текстур Minecraft для датасета"
   ],
   "outputs": []
  },
  {
   "cell_type": "code",
   "execution_count": null,
   "metadata": {},
   "source": [
    "# 1. Установка зависимостей\n",
    "!pip install beautifulsoup4 Pillow requests"
   ],
   "outputs": []
  },
  {
   "cell_type": "code",
   "execution_count": null,
   "metadata": {},
   "source": [
    "# 2. Создаем create_folders.py\n",
    "%%writefile create_folders.py\n",
    "import os\n",
    "\n",
    "def create_dataset_structure():\n",
    "    \"\"\"\n",
    "    Создает структуру папок для датасета\n",
    "    \"\"\"\n",
    "    folders = [\n",
    "        # Текстуры\n",
    "        \"dataset/textures/blocks/natural\",\n",
    "        \"dataset/textures/blocks/ores\",\n",
    "        \"dataset/textures/blocks/vegetation\",\n",
    "        \"dataset/textures/blocks/building\",\n",
    "        \"dataset/textures/special/gui\",\n",
    "        \"dataset/textures/special/particles\",\n",
    "        \"dataset/textures/special/animated\",\n",
    "        # Скины\n",
    "        \"dataset/skins/classic\",\n",
    "        \"dataset/skins/fantasy\",\n",
    "        \"dataset/skins/modern\",\n",
    "        \"dataset/skins/historical\",\n",
    "        # Обработанные данные\n",
    "        \"dataset/processed/16x16\",\n",
    "        \"dataset/processed/32x32\",\n",
    "        \"dataset/processed/64x64\"\n",
    "    ]\n",
    "    \n",
    "    for folder in folders:\n",
    "        os.makedirs(folder, exist_ok=True)\n",
    "        print(f\"Created: {folder}\")\n",
    "\n",
    "if __name__ == \"__main__\":\n",
    "    create_dataset_structure()"
   ],
   "outputs": []
  },
  {
   "cell_type": "code",
   "execution_count": null,
   "metadata": {},
   "source": [
    "# 3. Создаем data_collector.py\n",
    "%%writefile data_collector.py\n",
    "# [Здесь весь код data_collector.py]"
   ],
   "outputs": []
  },
  {
   "cell_type": "code",
   "execution_count": null,
   "metadata": {},
   "source": [
    "# 4. Создаем test_texture_download.py\n",
    "%%writefile test_texture_download.py\n",
    "# [Здесь весь код test_texture_download.py]"
   ],
   "outputs": []
  },
  {
   "cell_type": "code",
   "execution_count": null,
   "metadata": {},
   "source": [
    "# 5. Запускаем тест\n",
    "!python test_texture_download.py"
   ],
   "outputs": []
  },
  {
   "cell_type": "code",
   "execution_count": null,
   "metadata": {},
   "source": [
    "# 6. Проверяем структуру папок\n",
    "!tree dataset/textures"
   ],
   "outputs": []
  }
 ],
 "metadata": {
  "kernelspec": {
   "display_name": "Python 3",
   "language": "python",
   "name": "python3"
  },
  "language_info": {
   "codemirror_mode": {
    "name": "ipython",
    "version": 3
   },
   "file_extension": ".py",
   "mimetype": "text/x-python",
   "name": "python",
   "nbconvert_exporter": "python",
   "pygments_lexer": "ipython3",
   "version": "3.8.0"
  }
 },
 "nbformat": 4,
 "nbformat_minor": 4
}
